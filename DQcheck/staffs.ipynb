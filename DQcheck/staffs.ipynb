{
 "cells": [
  {
   "cell_type": "code",
   "execution_count": 1,
   "id": "d4baffe1",
   "metadata": {},
   "outputs": [],
   "source": [
    "import pandas as pd"
   ]
  },
  {
   "cell_type": "code",
   "execution_count": 2,
   "id": "732f3f70",
   "metadata": {},
   "outputs": [
    {
     "name": "stdout",
     "output_type": "stream",
     "text": [
      "<class 'pandas.core.frame.DataFrame'>\n",
      "RangeIndex: 10 entries, 0 to 9\n",
      "Data columns (total 10 columns):\n",
      " #   Column        Non-Null Count  Dtype  \n",
      "---  ------        --------------  -----  \n",
      " 0   staff_id      10 non-null     int64  \n",
      " 1   first_name    10 non-null     object \n",
      " 2   last_name     9 non-null      object \n",
      " 3   email         9 non-null      object \n",
      " 4   phone         8 non-null      object \n",
      " 5   active        10 non-null     int64  \n",
      " 6   store_id      9 non-null      float64\n",
      " 7   manager_id    9 non-null      float64\n",
      " 8   extract_date  10 non-null     object \n",
      " 9   source        10 non-null     object \n",
      "dtypes: float64(2), int64(2), object(6)\n",
      "memory usage: 928.0+ bytes\n"
     ]
    }
   ],
   "source": [
    "df_staffs = pd.read_csv('../landing/staffs/staffs.csv')\n",
    "df_staffs.info()"
   ]
  },
  {
   "cell_type": "code",
   "execution_count": 3,
   "id": "9dbc17af",
   "metadata": {},
   "outputs": [
    {
     "data": {
      "text/plain": [
       "0"
      ]
     },
     "execution_count": 3,
     "metadata": {},
     "output_type": "execute_result"
    }
   ],
   "source": [
    "df_staffs.duplicated().sum()"
   ]
  },
  {
   "cell_type": "code",
   "execution_count": 4,
   "id": "6bb8cf21",
   "metadata": {},
   "outputs": [
    {
     "data": {
      "text/plain": [
       "0     Jackson\n",
       "1    Copeland\n",
       "2     Serrano\n",
       "3     Wiggins\n",
       "4       David\n",
       "5         NaN\n",
       "6      Daniel\n",
       "7      Vargas\n",
       "8     Terrell\n",
       "9     Houston\n",
       "Name: 1, dtype: object"
      ]
     },
     "execution_count": 4,
     "metadata": {},
     "output_type": "execute_result"
    }
   ],
   "source": [
    "full_name = df_staffs['email'].str.split('@', expand = True)[0]\n",
    "last_name = full_name.str.split('.', expand = True)[1]\n",
    "last_name = last_name.str.title()\n",
    "last_name"
   ]
  },
  {
   "cell_type": "code",
   "execution_count": 5,
   "id": "be9f5925",
   "metadata": {},
   "outputs": [
    {
     "data": {
      "text/plain": [
       "0       fabiola.jackson@bikes.shop\n",
       "1                              NaN\n",
       "2         genna.serrano@bikes.shop\n",
       "3        virgie.wiggins@bikes.shop\n",
       "4        jannette.david@bikes.shop\n",
       "5       marcelene.boyer@bikes.shop\n",
       "6         venita.daniel@bikes.shop\n",
       "7           kali.vargas@bikes.shop\n",
       "8         layla.terrell@bikes.shop\n",
       "9    bernardine.houston@bikes.shop\n",
       "dtype: object"
      ]
     },
     "execution_count": 5,
     "metadata": {},
     "output_type": "execute_result"
    }
   ],
   "source": [
    "email = (df_staffs['first_name']).str.lower()+'.'+(df_staffs['last_name']).str.lower()+'@bikes.shop'\n",
    "email"
   ]
  },
  {
   "cell_type": "code",
   "execution_count": 6,
   "id": "3a9454f4",
   "metadata": {},
   "outputs": [],
   "source": [
    "df_staffs['last_name'].fillna(last_name, inplace = True)\n",
    "df_staffs['email'].fillna(email, inplace = True)\n",
    "df_staffs['phone'].fillna('not-available', inplace = True)\n",
    "df_staffs['store_id'].fillna(0, inplace = True)\n",
    "df_staffs['manager_id'].fillna(1.0, inplace = True)\n"
   ]
  },
  {
   "cell_type": "code",
   "execution_count": 7,
   "id": "cfa14b26",
   "metadata": {},
   "outputs": [
    {
     "data": {
      "text/plain": [
       "staff_id        0\n",
       "first_name      0\n",
       "last_name       0\n",
       "email           0\n",
       "phone           0\n",
       "active          0\n",
       "store_id        0\n",
       "manager_id      0\n",
       "extract_date    0\n",
       "source          0\n",
       "dtype: int64"
      ]
     },
     "execution_count": 7,
     "metadata": {},
     "output_type": "execute_result"
    }
   ],
   "source": [
    "df_staffs.isnull().sum()"
   ]
  },
  {
   "cell_type": "code",
   "execution_count": 8,
   "id": "fbbf3762",
   "metadata": {},
   "outputs": [],
   "source": [
    "df_staffs.to_csv('../staging/staffs/staffs.csv', index = 0)"
   ]
  },
  {
   "cell_type": "code",
   "execution_count": null,
   "id": "c87b93ab",
   "metadata": {},
   "outputs": [],
   "source": []
  }
 ],
 "metadata": {
  "kernelspec": {
   "display_name": "Python 3 (ipykernel)",
   "language": "python",
   "name": "python3"
  },
  "language_info": {
   "codemirror_mode": {
    "name": "ipython",
    "version": 3
   },
   "file_extension": ".py",
   "mimetype": "text/x-python",
   "name": "python",
   "nbconvert_exporter": "python",
   "pygments_lexer": "ipython3",
   "version": "3.9.12"
  }
 },
 "nbformat": 4,
 "nbformat_minor": 5
}
