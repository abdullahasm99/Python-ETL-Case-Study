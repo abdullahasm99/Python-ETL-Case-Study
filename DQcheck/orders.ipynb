{
 "cells": [
  {
   "cell_type": "code",
   "execution_count": 2,
   "id": "9a139ff3",
   "metadata": {},
   "outputs": [],
   "source": [
    "import pandas as pd\n",
    "from datetime import datetime\n",
    "import re"
   ]
  },
  {
   "cell_type": "code",
   "execution_count": 4,
   "id": "7c199a11",
   "metadata": {},
   "outputs": [
    {
     "name": "stdout",
     "output_type": "stream",
     "text": [
      "<class 'pandas.core.frame.DataFrame'>\n",
      "RangeIndex: 1615 entries, 0 to 1614\n",
      "Data columns (total 10 columns):\n",
      " #   Column         Non-Null Count  Dtype \n",
      "---  ------         --------------  ----- \n",
      " 0   order_id       1615 non-null   int64 \n",
      " 1   customer_id    1615 non-null   int64 \n",
      " 2   order_status   1615 non-null   int64 \n",
      " 3   order_date     1615 non-null   object\n",
      " 4   required_date  1615 non-null   object\n",
      " 5   shipped_date   1445 non-null   object\n",
      " 6   store_id       1615 non-null   int64 \n",
      " 7   staff_id       1615 non-null   int64 \n",
      " 8   extract_date   1615 non-null   object\n",
      " 9   source         1615 non-null   object\n",
      "dtypes: int64(5), object(5)\n",
      "memory usage: 126.3+ KB\n"
     ]
    },
    {
     "data": {
      "text/plain": [
       "order_id           0\n",
       "customer_id        0\n",
       "order_status       0\n",
       "order_date         0\n",
       "required_date      0\n",
       "shipped_date     170\n",
       "store_id           0\n",
       "staff_id           0\n",
       "extract_date       0\n",
       "source             0\n",
       "dtype: int64"
      ]
     },
     "execution_count": 4,
     "metadata": {},
     "output_type": "execute_result"
    }
   ],
   "source": [
    "df_orders = pd.read_csv('../landing/orders/orders.csv')\n",
    "df_orders.info()\n",
    "df_orders.isnull().sum()"
   ]
  },
  {
   "cell_type": "code",
   "execution_count": 5,
   "id": "fb9f2820",
   "metadata": {},
   "outputs": [],
   "source": [
    "def convert_date_columns(df):\n",
    "\n",
    "    date_pattern = r'^\\d{4}-\\d{2}-\\d{2}$'\n",
    "\n",
    "    for col in df.columns:\n",
    "        if re.match(date_pattern, str(df[col].iloc[0])):\n",
    "            df[col] = pd.to_datetime(df[col], format='%Y-%m-%d', errors='coerce')\n",
    "\n",
    "    return df"
   ]
  },
  {
   "cell_type": "code",
   "execution_count": 6,
   "id": "0f01d883",
   "metadata": {},
   "outputs": [],
   "source": [
    "df_orders = convert_date_columns(df_orders)"
   ]
  },
  {
   "cell_type": "code",
   "execution_count": 7,
   "id": "5392b3a0",
   "metadata": {},
   "outputs": [
    {
     "data": {
      "text/plain": [
       "order_id           0\n",
       "customer_id        0\n",
       "order_status       0\n",
       "order_date        11\n",
       "required_date     13\n",
       "shipped_date     183\n",
       "store_id           0\n",
       "staff_id           0\n",
       "extract_date       0\n",
       "source             0\n",
       "dtype: int64"
      ]
     },
     "execution_count": 7,
     "metadata": {},
     "output_type": "execute_result"
    }
   ],
   "source": [
    "df_orders.isnull().sum()"
   ]
  },
  {
   "cell_type": "code",
   "execution_count": 8,
   "id": "55cfec36",
   "metadata": {},
   "outputs": [],
   "source": [
    "df_orders['order_date'].fillna(method = 'ffill', inplace = True)\n",
    "df_orders['required_date'].fillna(method = 'ffill', inplace = True)\n",
    "df_orders['shipped_date'].fillna(method = 'ffill', inplace = True)\n"
   ]
  },
  {
   "cell_type": "code",
   "execution_count": 9,
   "id": "c26e2a9d",
   "metadata": {},
   "outputs": [
    {
     "data": {
      "text/plain": [
       "order_id         0\n",
       "customer_id      0\n",
       "order_status     0\n",
       "order_date       0\n",
       "required_date    0\n",
       "shipped_date     0\n",
       "store_id         0\n",
       "staff_id         0\n",
       "extract_date     0\n",
       "source           0\n",
       "dtype: int64"
      ]
     },
     "execution_count": 9,
     "metadata": {},
     "output_type": "execute_result"
    }
   ],
   "source": [
    "df_orders.isnull().sum()"
   ]
  },
  {
   "cell_type": "code",
   "execution_count": 10,
   "id": "80cbd4b8",
   "metadata": {},
   "outputs": [
    {
     "data": {
      "text/plain": [
       "0"
      ]
     },
     "execution_count": 10,
     "metadata": {},
     "output_type": "execute_result"
    }
   ],
   "source": [
    "df_orders.duplicated().sum()"
   ]
  },
  {
   "cell_type": "code",
   "execution_count": 11,
   "id": "1385006a",
   "metadata": {},
   "outputs": [],
   "source": [
    "df_orders = df_orders[(df_orders['order_date'] >= '2000-01-01') & (df_orders['order_date'] <= '2024-01-01')]"
   ]
  },
  {
   "cell_type": "code",
   "execution_count": 38,
   "id": "bb8db0cc",
   "metadata": {},
   "outputs": [
    {
     "data": {
      "text/html": [
       "<div>\n",
       "<style scoped>\n",
       "    .dataframe tbody tr th:only-of-type {\n",
       "        vertical-align: middle;\n",
       "    }\n",
       "\n",
       "    .dataframe tbody tr th {\n",
       "        vertical-align: top;\n",
       "    }\n",
       "\n",
       "    .dataframe thead th {\n",
       "        text-align: right;\n",
       "    }\n",
       "</style>\n",
       "<table border=\"1\" class=\"dataframe\">\n",
       "  <thead>\n",
       "    <tr style=\"text-align: right;\">\n",
       "      <th></th>\n",
       "      <th>order_id</th>\n",
       "      <th>customer_id</th>\n",
       "      <th>order_status</th>\n",
       "      <th>order_date</th>\n",
       "      <th>required_date</th>\n",
       "      <th>shipped_date</th>\n",
       "      <th>store_id</th>\n",
       "      <th>staff_id</th>\n",
       "      <th>extract_date</th>\n",
       "      <th>source</th>\n",
       "    </tr>\n",
       "  </thead>\n",
       "  <tbody>\n",
       "    <tr>\n",
       "      <th>0</th>\n",
       "      <td>1</td>\n",
       "      <td>259</td>\n",
       "      <td>4</td>\n",
       "      <td>2016-01-01</td>\n",
       "      <td>2016-01-03</td>\n",
       "      <td>2016-01-03</td>\n",
       "      <td>1</td>\n",
       "      <td>2</td>\n",
       "      <td>2024-04-28 18:15:34.177976</td>\n",
       "      <td>postgre</td>\n",
       "    </tr>\n",
       "    <tr>\n",
       "      <th>1</th>\n",
       "      <td>2</td>\n",
       "      <td>1212</td>\n",
       "      <td>4</td>\n",
       "      <td>2016-01-01</td>\n",
       "      <td>2016-01-04</td>\n",
       "      <td>2016-01-03</td>\n",
       "      <td>2</td>\n",
       "      <td>6</td>\n",
       "      <td>2024-04-28 18:15:34.177976</td>\n",
       "      <td>postgre</td>\n",
       "    </tr>\n",
       "    <tr>\n",
       "      <th>2</th>\n",
       "      <td>3</td>\n",
       "      <td>523</td>\n",
       "      <td>4</td>\n",
       "      <td>2016-01-02</td>\n",
       "      <td>2016-01-05</td>\n",
       "      <td>2016-01-03</td>\n",
       "      <td>2</td>\n",
       "      <td>7</td>\n",
       "      <td>2024-04-28 18:15:34.177976</td>\n",
       "      <td>postgre</td>\n",
       "    </tr>\n",
       "    <tr>\n",
       "      <th>3</th>\n",
       "      <td>4</td>\n",
       "      <td>175</td>\n",
       "      <td>4</td>\n",
       "      <td>2016-01-03</td>\n",
       "      <td>2016-01-04</td>\n",
       "      <td>2016-01-05</td>\n",
       "      <td>1</td>\n",
       "      <td>3</td>\n",
       "      <td>2024-04-28 18:15:34.177976</td>\n",
       "      <td>postgre</td>\n",
       "    </tr>\n",
       "    <tr>\n",
       "      <th>4</th>\n",
       "      <td>5</td>\n",
       "      <td>1324</td>\n",
       "      <td>4</td>\n",
       "      <td>2016-01-03</td>\n",
       "      <td>2016-01-06</td>\n",
       "      <td>2016-01-06</td>\n",
       "      <td>2</td>\n",
       "      <td>6</td>\n",
       "      <td>2024-04-28 18:15:34.177976</td>\n",
       "      <td>postgre</td>\n",
       "    </tr>\n",
       "    <tr>\n",
       "      <th>...</th>\n",
       "      <td>...</td>\n",
       "      <td>...</td>\n",
       "      <td>...</td>\n",
       "      <td>...</td>\n",
       "      <td>...</td>\n",
       "      <td>...</td>\n",
       "      <td>...</td>\n",
       "      <td>...</td>\n",
       "      <td>...</td>\n",
       "      <td>...</td>\n",
       "    </tr>\n",
       "    <tr>\n",
       "      <th>1610</th>\n",
       "      <td>1611</td>\n",
       "      <td>6</td>\n",
       "      <td>3</td>\n",
       "      <td>2018-09-06</td>\n",
       "      <td>2018-09-06</td>\n",
       "      <td>2018-04-02</td>\n",
       "      <td>2</td>\n",
       "      <td>7</td>\n",
       "      <td>2024-04-28 18:15:34.177976</td>\n",
       "      <td>postgre</td>\n",
       "    </tr>\n",
       "    <tr>\n",
       "      <th>1611</th>\n",
       "      <td>1612</td>\n",
       "      <td>3</td>\n",
       "      <td>3</td>\n",
       "      <td>2018-10-21</td>\n",
       "      <td>2018-10-21</td>\n",
       "      <td>2018-04-02</td>\n",
       "      <td>1</td>\n",
       "      <td>3</td>\n",
       "      <td>2024-04-28 18:15:34.177976</td>\n",
       "      <td>postgre</td>\n",
       "    </tr>\n",
       "    <tr>\n",
       "      <th>1612</th>\n",
       "      <td>1613</td>\n",
       "      <td>1</td>\n",
       "      <td>3</td>\n",
       "      <td>2018-11-18</td>\n",
       "      <td>2018-11-18</td>\n",
       "      <td>2018-04-02</td>\n",
       "      <td>2</td>\n",
       "      <td>6</td>\n",
       "      <td>2024-04-28 18:15:34.177976</td>\n",
       "      <td>postgre</td>\n",
       "    </tr>\n",
       "    <tr>\n",
       "      <th>1613</th>\n",
       "      <td>1614</td>\n",
       "      <td>135</td>\n",
       "      <td>3</td>\n",
       "      <td>2018-11-28</td>\n",
       "      <td>2018-11-28</td>\n",
       "      <td>2018-04-02</td>\n",
       "      <td>3</td>\n",
       "      <td>8</td>\n",
       "      <td>2024-04-28 18:15:34.177976</td>\n",
       "      <td>postgre</td>\n",
       "    </tr>\n",
       "    <tr>\n",
       "      <th>1614</th>\n",
       "      <td>1615</td>\n",
       "      <td>136</td>\n",
       "      <td>3</td>\n",
       "      <td>2018-12-28</td>\n",
       "      <td>2018-12-28</td>\n",
       "      <td>2018-04-02</td>\n",
       "      <td>3</td>\n",
       "      <td>8</td>\n",
       "      <td>2024-04-28 18:15:34.177976</td>\n",
       "      <td>postgre</td>\n",
       "    </tr>\n",
       "  </tbody>\n",
       "</table>\n",
       "<p>1615 rows × 10 columns</p>\n",
       "</div>"
      ],
      "text/plain": [
       "      order_id  customer_id  order_status order_date required_date  \\\n",
       "0            1          259             4 2016-01-01    2016-01-03   \n",
       "1            2         1212             4 2016-01-01    2016-01-04   \n",
       "2            3          523             4 2016-01-02    2016-01-05   \n",
       "3            4          175             4 2016-01-03    2016-01-04   \n",
       "4            5         1324             4 2016-01-03    2016-01-06   \n",
       "...        ...          ...           ...        ...           ...   \n",
       "1610      1611            6             3 2018-09-06    2018-09-06   \n",
       "1611      1612            3             3 2018-10-21    2018-10-21   \n",
       "1612      1613            1             3 2018-11-18    2018-11-18   \n",
       "1613      1614          135             3 2018-11-28    2018-11-28   \n",
       "1614      1615          136             3 2018-12-28    2018-12-28   \n",
       "\n",
       "     shipped_date  store_id  staff_id                extract_date   source  \n",
       "0      2016-01-03         1         2  2024-04-28 18:15:34.177976  postgre  \n",
       "1      2016-01-03         2         6  2024-04-28 18:15:34.177976  postgre  \n",
       "2      2016-01-03         2         7  2024-04-28 18:15:34.177976  postgre  \n",
       "3      2016-01-05         1         3  2024-04-28 18:15:34.177976  postgre  \n",
       "4      2016-01-06         2         6  2024-04-28 18:15:34.177976  postgre  \n",
       "...           ...       ...       ...                         ...      ...  \n",
       "1610   2018-04-02         2         7  2024-04-28 18:15:34.177976  postgre  \n",
       "1611   2018-04-02         1         3  2024-04-28 18:15:34.177976  postgre  \n",
       "1612   2018-04-02         2         6  2024-04-28 18:15:34.177976  postgre  \n",
       "1613   2018-04-02         3         8  2024-04-28 18:15:34.177976  postgre  \n",
       "1614   2018-04-02         3         8  2024-04-28 18:15:34.177976  postgre  \n",
       "\n",
       "[1615 rows x 10 columns]"
      ]
     },
     "execution_count": 38,
     "metadata": {},
     "output_type": "execute_result"
    }
   ],
   "source": []
  },
  {
   "cell_type": "code",
   "execution_count": 13,
   "id": "2647b9c2",
   "metadata": {},
   "outputs": [],
   "source": [
    "df_orders.to_csv('../staging/orders/orders.csv', index = 0)"
   ]
  },
  {
   "cell_type": "code",
   "execution_count": null,
   "id": "f1a1a7fa",
   "metadata": {},
   "outputs": [],
   "source": []
  }
 ],
 "metadata": {
  "kernelspec": {
   "display_name": "Python 3 (ipykernel)",
   "language": "python",
   "name": "python3"
  },
  "language_info": {
   "codemirror_mode": {
    "name": "ipython",
    "version": 3
   },
   "file_extension": ".py",
   "mimetype": "text/x-python",
   "name": "python",
   "nbconvert_exporter": "python",
   "pygments_lexer": "ipython3",
   "version": "3.9.12"
  }
 },
 "nbformat": 4,
 "nbformat_minor": 5
}
