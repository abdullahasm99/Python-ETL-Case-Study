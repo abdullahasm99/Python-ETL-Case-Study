{
 "cells": [
  {
   "cell_type": "code",
   "execution_count": 14,
   "id": "47f1715d",
   "metadata": {},
   "outputs": [],
   "source": [
    "import pandas as pd\n",
    "from datetime import datetime\n"
   ]
  },
  {
   "cell_type": "code",
   "execution_count": null,
   "id": "1bb1d138",
   "metadata": {},
   "outputs": [],
   "source": [
    "brands_df = pd.read_csv('../bikestore_dim/brands.csv')\n",
    "exchange_df = pd.read_csv('../bikestore_dim/exchange.csv')\n",
    "categories_df = pd.read_csv('../bikestore_dim/categories.csv')\n",
    "customers_df = pd.read_csv('../bikestore_dim/customers.csv')\n",
    "products_df = pd.read_csv('../bikestore_dim/products.csv')\n",
    "staffs_df = pd.read_csv('../bikestore_dim/staffs.csv')\n",
    "stocks_df = pd.read_csv('../bikestore_dim/stocks.csv')\n",
    "stores_df = pd.read_csv('../bikestore_dim/stores.csv')"
   ]
  },
  {
   "cell_type": "code",
   "execution_count": 15,
   "id": "0b72e6bd",
   "metadata": {},
   "outputs": [],
   "source": [
    "brands_df['extract_date'] = datetime.now()\n",
    "brands_df['source'] = 'datalake'"
   ]
  },
  {
   "cell_type": "code",
   "execution_count": 16,
   "id": "53a8e761",
   "metadata": {},
   "outputs": [],
   "source": [
    "categories_df['extract_date'] = datetime.now()\n",
    "categories_df['source'] = 'datalake'"
   ]
  },
  {
   "cell_type": "code",
   "execution_count": 17,
   "id": "25bec69b",
   "metadata": {},
   "outputs": [],
   "source": [
    "customers_df['extract_date'] = datetime.now()\n",
    "customers_df['source'] = 'datalake'"
   ]
  },
  {
   "cell_type": "code",
   "execution_count": 18,
   "id": "4276b113",
   "metadata": {},
   "outputs": [],
   "source": [
    "products_df['extract_date'] = datetime.now()\n",
    "products_df['source'] = 'datalake'"
   ]
  },
  {
   "cell_type": "code",
   "execution_count": 19,
   "id": "e35bc87d",
   "metadata": {},
   "outputs": [],
   "source": [
    "staffs_df['extract_date'] = datetime.now()\n",
    "staffs_df['source'] = 'datalake'"
   ]
  },
  {
   "cell_type": "code",
   "execution_count": 20,
   "id": "a4265320",
   "metadata": {},
   "outputs": [],
   "source": [
    "stocks_df['extract_date'] = datetime.now()\n",
    "stocks_df['source'] = 'datalake'"
   ]
  },
  {
   "cell_type": "code",
   "execution_count": 21,
   "id": "c5172d69",
   "metadata": {},
   "outputs": [],
   "source": [
    "stores_df['extract_date'] = datetime.now()\n",
    "stores_df['source'] = 'datalake'"
   ]
  },
  {
   "cell_type": "code",
   "execution_count": 22,
   "id": "1ab83a8d",
   "metadata": {},
   "outputs": [],
   "source": [
    "exchange_df['extract_date'] = datetime.now()\n",
    "exchange_df['source'] = 'api'"
   ]
  },
  {
   "cell_type": "code",
   "execution_count": 25,
   "id": "60c95098",
   "metadata": {},
   "outputs": [],
   "source": [
    "brands_df.to_csv('../landing/brands/brands.csv', index = 0)\n",
    "exchange_df.to_csv('../landing/exchange/exchange.csv', index = 0)\n",
    "categories_df.to_csv('../landing/categories/categories.csv', index = 0)\n",
    "customers_df.to_csv('../landing/customers/customers.csv', index = 0)\n",
    "products_df.to_csv('../landing/products/products.csv', index = 0)\n",
    "staffs_df.to_csv('../landing/staffs/staffs.csv', index = 0)\n",
    "stocks_df.to_csv('../landing/stocks/stocks.csv', index = 0)\n",
    "stores_df.to_csv('../landing/stores/stores.csv', index = 0)"
   ]
  },
  {
   "cell_type": "code",
   "execution_count": 24,
   "id": "b44f2cbd",
   "metadata": {},
   "outputs": [],
   "source": []
  },
  {
   "cell_type": "code",
   "execution_count": null,
   "id": "6b509638",
   "metadata": {},
   "outputs": [],
   "source": []
  }
 ],
 "metadata": {
  "kernelspec": {
   "display_name": "Python 3 (ipykernel)",
   "language": "python",
   "name": "python3"
  },
  "language_info": {
   "codemirror_mode": {
    "name": "ipython",
    "version": 3
   },
   "file_extension": ".py",
   "mimetype": "text/x-python",
   "name": "python",
   "nbconvert_exporter": "python",
   "pygments_lexer": "ipython3",
   "version": "3.9.12"
  }
 },
 "nbformat": 4,
 "nbformat_minor": 5
}
