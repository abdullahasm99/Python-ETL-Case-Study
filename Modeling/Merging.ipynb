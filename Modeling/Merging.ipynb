{
 "cells": [
  {
   "cell_type": "code",
   "execution_count": 1,
   "id": "1ffb979f",
   "metadata": {},
   "outputs": [],
   "source": [
    "import pandas as pd"
   ]
  },
  {
   "cell_type": "code",
   "execution_count": 23,
   "id": "b8bd7c85",
   "metadata": {},
   "outputs": [],
   "source": [
    "orders_df = pd.read_csv('../staging_2/orders/orders.csv')\n",
    "order_items_df = pd.read_csv('../staging_2/order_items/order_items.csv')\n",
    "products_df = pd.read_csv('../staging_2/products/products.csv')"
   ]
  },
  {
   "cell_type": "code",
   "execution_count": 36,
   "id": "4e0e9fc2",
   "metadata": {},
   "outputs": [
    {
     "name": "stdout",
     "output_type": "stream",
     "text": [
      "<class 'pandas.core.frame.DataFrame'>\n",
      "RangeIndex: 4639 entries, 0 to 4638\n",
      "Data columns (total 9 columns):\n",
      " #   Column          Non-Null Count  Dtype  \n",
      "---  ------          --------------  -----  \n",
      " 0   order_id        4639 non-null   int64  \n",
      " 1   item_id         4639 non-null   float64\n",
      " 2   product_id      4639 non-null   int64  \n",
      " 3   quantity        4639 non-null   int64  \n",
      " 4   list_price      4639 non-null   float64\n",
      " 5   discount        4639 non-null   float64\n",
      " 6   extract_date    4639 non-null   object \n",
      " 7   source          4639 non-null   object \n",
      " 8   list_price_egp  4639 non-null   float64\n",
      "dtypes: float64(4), int64(3), object(2)\n",
      "memory usage: 326.3+ KB\n"
     ]
    }
   ],
   "source": [
    "order_items_df.info()"
   ]
  },
  {
   "cell_type": "code",
   "execution_count": 37,
   "id": "9caae3a8",
   "metadata": {},
   "outputs": [
    {
     "name": "stdout",
     "output_type": "stream",
     "text": [
      "<class 'pandas.core.frame.DataFrame'>\n",
      "RangeIndex: 324 entries, 0 to 323\n",
      "Data columns (total 8 columns):\n",
      " #   Column        Non-Null Count  Dtype  \n",
      "---  ------        --------------  -----  \n",
      " 0   product_id    324 non-null    int64  \n",
      " 1   product_name  324 non-null    object \n",
      " 2   brand_id      324 non-null    int64  \n",
      " 3   category_id   324 non-null    int64  \n",
      " 4   model_year    324 non-null    int64  \n",
      " 5   list_price    324 non-null    float64\n",
      " 6   extract_date  324 non-null    object \n",
      " 7   source        324 non-null    object \n",
      "dtypes: float64(1), int64(4), object(3)\n",
      "memory usage: 20.4+ KB\n"
     ]
    }
   ],
   "source": [
    "products_df.info()"
   ]
  },
  {
   "cell_type": "code",
   "execution_count": 38,
   "id": "4708fcc2",
   "metadata": {},
   "outputs": [
    {
     "name": "stdout",
     "output_type": "stream",
     "text": [
      "<class 'pandas.core.frame.DataFrame'>\n",
      "RangeIndex: 1615 entries, 0 to 1614\n",
      "Data columns (total 14 columns):\n",
      " #   Column             Non-Null Count  Dtype \n",
      "---  ------             --------------  ----- \n",
      " 0   order_id           1615 non-null   int64 \n",
      " 1   customer_id        1615 non-null   int64 \n",
      " 2   order_status       1615 non-null   int64 \n",
      " 3   order_date         1615 non-null   object\n",
      " 4   required_date      1615 non-null   object\n",
      " 5   shipped_date       1615 non-null   object\n",
      " 6   store_id           1615 non-null   int64 \n",
      " 7   staff_id           1615 non-null   int64 \n",
      " 8   extract_date       1615 non-null   object\n",
      " 9   source             1615 non-null   object\n",
      " 10  late_delivery      1615 non-null   bool  \n",
      " 11  latency days       482 non-null    object\n",
      " 12  weekend            1615 non-null   bool  \n",
      " 13  order_status_desc  1615 non-null   object\n",
      "dtypes: bool(2), int64(5), object(7)\n",
      "memory usage: 154.7+ KB\n"
     ]
    }
   ],
   "source": [
    "orders_df.info()"
   ]
  },
  {
   "cell_type": "code",
   "execution_count": 39,
   "id": "b91208ed",
   "metadata": {},
   "outputs": [
    {
     "name": "stdout",
     "output_type": "stream",
     "text": [
      "<class 'pandas.core.frame.DataFrame'>\n",
      "Int64Index: 5017 entries, 0 to 5016\n",
      "Data columns (total 16 columns):\n",
      " #   Column          Non-Null Count  Dtype  \n",
      "---  ------          --------------  -----  \n",
      " 0   order_id        5017 non-null   int64  \n",
      " 1   item_id         5017 non-null   float64\n",
      " 2   product_id      5017 non-null   int64  \n",
      " 3   quantity        5017 non-null   int64  \n",
      " 4   list_price_x    5017 non-null   float64\n",
      " 5   discount        5017 non-null   float64\n",
      " 6   extract_date_x  5017 non-null   object \n",
      " 7   source_x        5017 non-null   object \n",
      " 8   list_price_egp  5017 non-null   float64\n",
      " 9   product_name    5017 non-null   object \n",
      " 10  brand_id        5017 non-null   int64  \n",
      " 11  category_id     5017 non-null   int64  \n",
      " 12  model_year      5017 non-null   int64  \n",
      " 13  list_price_y    5017 non-null   float64\n",
      " 14  extract_date_y  5017 non-null   object \n",
      " 15  source_y        5017 non-null   object \n",
      "dtypes: float64(5), int64(6), object(5)\n",
      "memory usage: 666.3+ KB\n"
     ]
    }
   ],
   "source": [
    "merge_df1 = pd.merge(order_items_df, products_df, on = 'product_id', how = 'left')\n",
    "merge_df1.info()"
   ]
  },
  {
   "cell_type": "code",
   "execution_count": 40,
   "id": "0ebd3e02",
   "metadata": {},
   "outputs": [],
   "source": [
    "merge_df2 = pd.merge(merge_df1, orders_df, on = 'order_id', how = 'left')"
   ]
  },
  {
   "cell_type": "code",
   "execution_count": 41,
   "id": "b0407b26",
   "metadata": {},
   "outputs": [
    {
     "name": "stdout",
     "output_type": "stream",
     "text": [
      "<class 'pandas.core.frame.DataFrame'>\n",
      "Int64Index: 5017 entries, 0 to 5016\n",
      "Data columns (total 29 columns):\n",
      " #   Column             Non-Null Count  Dtype  \n",
      "---  ------             --------------  -----  \n",
      " 0   order_id           5017 non-null   int64  \n",
      " 1   item_id            5017 non-null   float64\n",
      " 2   product_id         5017 non-null   int64  \n",
      " 3   quantity           5017 non-null   int64  \n",
      " 4   list_price_x       5017 non-null   float64\n",
      " 5   discount           5017 non-null   float64\n",
      " 6   extract_date_x     5017 non-null   object \n",
      " 7   source_x           5017 non-null   object \n",
      " 8   list_price_egp     5017 non-null   float64\n",
      " 9   product_name       5017 non-null   object \n",
      " 10  brand_id           5017 non-null   int64  \n",
      " 11  category_id        5017 non-null   int64  \n",
      " 12  model_year         5017 non-null   int64  \n",
      " 13  list_price_y       5017 non-null   float64\n",
      " 14  extract_date_y     5017 non-null   object \n",
      " 15  source_y           5017 non-null   object \n",
      " 16  customer_id        5017 non-null   int64  \n",
      " 17  order_status       5017 non-null   int64  \n",
      " 18  order_date         5017 non-null   object \n",
      " 19  required_date      5017 non-null   object \n",
      " 20  shipped_date       5017 non-null   object \n",
      " 21  store_id           5017 non-null   int64  \n",
      " 22  staff_id           5017 non-null   int64  \n",
      " 23  extract_date       5017 non-null   object \n",
      " 24  source             5017 non-null   object \n",
      " 25  late_delivery      5017 non-null   bool   \n",
      " 26  latency days       1521 non-null   object \n",
      " 27  weekend            5017 non-null   bool   \n",
      " 28  order_status_desc  5017 non-null   object \n",
      "dtypes: bool(2), float64(5), int64(10), object(12)\n",
      "memory usage: 1.1+ MB\n"
     ]
    }
   ],
   "source": [
    "merge_df2.info()"
   ]
  },
  {
   "cell_type": "code",
   "execution_count": 42,
   "id": "7e07ca7b",
   "metadata": {},
   "outputs": [],
   "source": [
    "merge_df2.to_csv('../Information_Mart/orders_products_details.csv', index = 0)"
   ]
  },
  {
   "cell_type": "code",
   "execution_count": null,
   "id": "d8a40d82",
   "metadata": {},
   "outputs": [],
   "source": []
  }
 ],
 "metadata": {
  "kernelspec": {
   "display_name": "Python 3 (ipykernel)",
   "language": "python",
   "name": "python3"
  },
  "language_info": {
   "codemirror_mode": {
    "name": "ipython",
    "version": 3
   },
   "file_extension": ".py",
   "mimetype": "text/x-python",
   "name": "python",
   "nbconvert_exporter": "python",
   "pygments_lexer": "ipython3",
   "version": "3.9.12"
  }
 },
 "nbformat": 4,
 "nbformat_minor": 5
}
